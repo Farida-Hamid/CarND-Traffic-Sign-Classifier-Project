{
 "cells": [
  {
   "cell_type": "markdown",
   "metadata": {},
   "source": [
    "# Self-Driving Car Engineer Nanodegree\n",
    "\n",
    "## Deep Learning\n",
    "\n",
    "## Project: Build a Traffic Sign Recognition Classifier\n"
   ]
  },
  {
   "cell_type": "markdown",
   "metadata": {},
   "source": [
    "---\n",
    "## Step 0: Load The Data"
   ]
  },
  {
   "cell_type": "code",
   "execution_count": 17,
   "metadata": {
    "collapsed": true
   },
   "outputs": [],
   "source": [
    "# Load pickled data\n",
    "import pickle\n",
    "\n",
    "# Fill this in based on where you saved the training and testing data\n",
    "\n",
    "training_file = 'traffic-signs-data\\\\train.p'\n",
    "validation_file= 'traffic-signs-data\\\\valid.p'\n",
    "testing_file = 'traffic-signs-data\\\\test.p'\n",
    "\n",
    "with open(training_file, mode='rb') as f:\n",
    "    train = pickle.load(f)\n",
    "with open(validation_file, mode='rb') as f:\n",
    "    valid = pickle.load(f)\n",
    "with open(testing_file, mode='rb') as f:\n",
    "    test = pickle.load(f)\n",
    "    \n",
    "X_train, y_train = train['features'], train['labels']\n",
    "X_valid, y_valid = valid['features'], valid['labels']\n",
    "X_test, y_test = test['features'], test['labels']"
   ]
  },
  {
   "cell_type": "markdown",
   "metadata": {},
   "source": [
    "---\n",
    "\n",
    "## Step 1: Dataset Summary & Exploration\n",
    "\n",
    "The pickled data is a dictionary with 4 key/value pairs:\n",
    "\n",
    "- `'features'` is a 4D array containing raw pixel data of the traffic sign images, (num examples, width, height, channels).\n",
    "- `'labels'` is a 1D array containing the label/class id of the traffic sign. The file `signnames.csv` contains id -> name mappings for each id.\n",
    "- `'sizes'` is a list containing tuples, (width, height) representing the original width and height the image.\n",
    "- `'coords'` is a list containing tuples, (x1, y1, x2, y2) representing coordinates of a bounding box around the sign in the image. **THESE COORDINATES ASSUME THE ORIGINAL IMAGE. THE PICKLED DATA CONTAINS RESIZED VERSIONS (32 by 32) OF THESE IMAGES**"
   ]
  },
  {
   "cell_type": "code",
   "execution_count": 18,
   "metadata": {},
   "outputs": [
    {
     "name": "stdout",
     "output_type": "stream",
     "text": [
      "Number of training examples = 34799\n",
      "Number of validation examples = 4410\n",
      "Number of testing examples = 12630\n",
      "Image data shape = (32, 32, 3)\n",
      "Number of classes = 43\n"
     ]
    }
   ],
   "source": [
    "### Replace each question mark with the appropriate value. \n",
    "### Use python, pandas or numpy methods rather than hard coding the results\n",
    "\n",
    "#from numpy import unique\n",
    "import numpy as np\n",
    "\n",
    "# Number of training examples\n",
    "print(\"Number of training examples =\", len(X_train))\n",
    "\n",
    "# Number of validation examples\n",
    "print(\"Number of validation examples =\", len(X_valid))\n",
    "\n",
    "# Number of testing examples.\n",
    "print(\"Number of testing examples =\", len(X_test))\n",
    "\n",
    "# What's the shape of an traffic sign image?\n",
    "print(\"Image data shape =\", X_test[0].shape)\n",
    "\n",
    "# How many unique classes/labels there are in the dataset.\n",
    "print(\"Number of classes =\", len(np.unique(y_train)))"
   ]
  },
  {
   "cell_type": "markdown",
   "metadata": {},
   "source": [
    "### Include an exploratory visualization of the dataset\n",
    "\n",
    "\n",
    "Visualize the German Traffic Signs Dataset using the pickled file(s). This is open ended, suggestions include: plotting traffic sign images, plotting the count of each sign, etc. "
   ]
  },
  {
   "cell_type": "code",
   "execution_count": 19,
   "metadata": {},
   "outputs": [
    {
     "name": "stdout",
     "output_type": "stream",
     "text": [
      "image label is: 22\n",
      "type : uint8  min:  24  max: 233\n"
     ]
    },
    {
     "data": {
      "image/png": "[encoded data removed]",
      "text/plain": [
       "<matplotlib.figure.Figure at 0xc5399b3518>"
      ]
     },
     "metadata": {},
     "output_type": "display_data"
    }
   ],
   "source": [
    "### Data exploration visualization code goes here. Feel free to use as many code cells as needed.\n",
    "\n",
    "import matplotlib.pyplot as plt\n",
    "import random\n",
    "%matplotlib inline\n",
    "\n",
    "i  = random.randint(0, len(X_train))\n",
    "image = X_train[i].squeeze()\n",
    "image = np.array(image)\n",
    "plt.imshow(image)\n",
    "print ('image label is:', y_train[i])\n",
    "print(\"type :\", image.dtype, \" min: \", np.min(image), \" max:\",np.max(image))"
   ]
  },
  {
   "cell_type": "code",
   "execution_count": 20,
   "metadata": {},
   "outputs": [
    {
     "data": {
      "text/plain": [
       "<Container object of 43 artists>"
      ]
     },
     "execution_count": 20,
     "metadata": {},
     "output_type": "execute_result"
    },
    {
     "data": {
      "image/png": "[encoded data removed]",
      "text/plain": [
       "<matplotlib.figure.Figure at 0xc5190e56d8>"
      ]
     },
     "metadata": {},
     "output_type": "display_data"
    }
   ],
   "source": [
    "# visualize the number of pictures for each classes \n",
    "points = []\n",
    "\n",
    "for i in range(43):\n",
    "    points.append(np.sum(y_train == i))\n",
    "\n",
    "plt.bar(range(43), points)"
   ]
  },
  {
   "cell_type": "markdown",
   "metadata": {},
   "source": [
    "----\n",
    "\n",
    "## Step 2: Design and Test a Model Architecture\n",
    "\n",
    "This step is done using lenet.\n",
    "\n",
    "\n",
    "##### Pre-process the Data Set:\n",
    "Normalized data is easyer to process. Also, the images I found on the web had values between 1 and 0. "
   ]
  },
  {
   "cell_type": "code",
   "execution_count": 21,
   "metadata": {},
   "outputs": [
    {
     "name": "stdout",
     "output_type": "stream",
     "text": [
      " input size: (32, 32, 3) 0.188235294118 0.462745098039 0.854901960784  type: float64\n"
     ]
    },
    {
     "data": {
      "image/png": "[encoded data removed]",
      "text/plain": [
       "<matplotlib.figure.Figure at 0xc53c7b95c0>"
      ]
     },
     "metadata": {},
     "output_type": "display_data"
    }
   ],
   "source": [
    "### Preprocess the data here. It is required to normalize the data. Other preprocessing steps could include \n",
    "### converting to grayscale, etc. Feel free to use as many code cells as needed.\n",
    "\n",
    "from sklearn.utils import shuffle\n",
    "X_train, y_train = shuffle(X_train, y_train)\n",
    "\n",
    "def normalize(image_set):\n",
    "    \"\"\"\n",
    "    takes the dataset as inputs and outputs a set of normalized images.\n",
    "    \"\"\"\n",
    "    op = []\n",
    "    for img in image_set:\n",
    "        img = np.array(img).astype('float')\n",
    "\n",
    "        for x in range (32):\n",
    "            for y in range(32):\n",
    "                img[x, y, 0] /= 255\n",
    "                img[x, y, 1] /= 255\n",
    "                img[x, y, 2] /= 255\n",
    "\n",
    "        op.append(img)\n",
    "                \n",
    "    return op\n",
    "\n",
    "X_train = normalize(X_train)\n",
    "X_valid = normalize(X_valid)\n",
    "X_test = normalize(X_test)\n",
    "\n",
    "image = X_train[i]\n",
    "plt.imshow(image)\n",
    "\n",
    "print(\" input size:\", image.shape, image[24,10,0], image[24,10,1], image[24,10,2], \" type:\", image.dtype)"
   ]
  },
  {
   "cell_type": "markdown",
   "metadata": {},
   "source": [
    "### Model Architecture\n"
   ]
  },
  {
   "cell_type": "code",
   "execution_count": 22,
   "metadata": {
    "collapsed": true
   },
   "outputs": [],
   "source": [
    "### Define your architecture here. Feel free to use as many code cells as needed.\n",
    "\n",
    "# taken from LeNet lab\n",
    "import tensorflow as tf\n",
    "\n",
    "def LeNet(x):    \n",
    "    # Arguments used for tf.truncated_normal, randomly defines variables for the weights and biases for each layer\n",
    "    mu = 0\n",
    "    sigma = 0.1\n",
    "    \n",
    "    # Layer 1: Convolutional. Input = 32x32x3. Output = 28x28x6.\n",
    "    conv1w = tf.Variable(tf.truncated_normal(shape = (5, 5, 3, 6), mean = mu, stddev = sigma)) #Hf = Wf = 5, s = 3, valid_P\n",
    "    conv1b = tf.Variable(tf.zeros(6))\n",
    "    conv1 = tf.nn.conv2d(x, conv1w, strides = [1, 1, 1, 1], padding = 'VALID') + conv1b\n",
    "\n",
    "    # Activation.\n",
    "    conv1 = tf.nn.relu(conv1)\n",
    "\n",
    "    # Pooling. Input = 28x28x6. Output = 14x14x6.\n",
    "    conv1 = tf.nn.max_pool(conv1, ksize = [1, 2, 2, 1], strides = [1, 2, 2, 1], padding = 'VALID') #Hf = Wf = 2, s = 2, valid_P\n",
    "\n",
    "    # Layer 2: Convolutional. Output = 10x10x16.\n",
    "    conv2w = tf.Variable(tf.truncated_normal(shape = (5, 5, 6, 16), mean = mu, stddev = sigma))\n",
    "    conv2b = tf.Variable(tf.zeros(16))\n",
    "    conv2 = tf.nn.conv2d(conv1, conv2w, strides = [1, 1, 1, 1], padding ='VALID') + conv2b\n",
    "    \n",
    "    # Activation.\n",
    "    conv2 = tf.nn.relu(conv2)\n",
    "\n",
    "    # Pooling. Input = 10x10x16. Output = 5x5x16.\n",
    "    conv2 = tf.nn.max_pool(conv2, ksize = [1, 2, 2, 1], strides = [1, 2, 2, 1], padding = 'VALID')\n",
    "\n",
    "    # Flatten. Input = 5x5x16. Output = 400.\n",
    "    f = tf.contrib.layers.flatten(conv2)\n",
    "    \n",
    "    # Layer 3: Fully Connected. Input = 400. Output = 120.\n",
    "    fc1w = tf.Variable(tf.truncated_normal(shape = (400, 120), stddev = sigma, mean = mu))\n",
    "    fc1b = tf.Variable(tf.zeros(120))\n",
    "    fc1 = tf.matmul(f, fc1w) + fc1b\n",
    "    \n",
    "    # Activation.\n",
    "    fc1 = tf.nn.relu(fc1)\n",
    "\n",
    "    # Layer 4: Fully Connected. Input = 120. Output = 84.\n",
    "    fc2w = tf.Variable(tf.truncated_normal(shape = (120, 84), stddev = sigma, mean = mu))\n",
    "    fc2b = tf.Variable(tf.zeros(84))\n",
    "    fc2 = tf.matmul(fc1, fc2w) + fc2b\n",
    "    \n",
    "    # Activation.\n",
    "    fc2 = tf.nn.relu(fc2)\n",
    "\n",
    "    # Layer 5: Fully Connected. Input = 84. Output = 43.\n",
    "    fc3w = tf.Variable(tf.truncated_normal(shape = (84, 43), stddev = sigma, mean = mu))\n",
    "    fc3b = tf.Variable(tf.zeros(43))\n",
    "    logits = tf.matmul(fc2, fc3w) + fc3b\n",
    "    \n",
    "    return logits"
   ]
  },
  {
   "cell_type": "markdown",
   "metadata": {},
   "source": [
    "### Train, Validate and Test the Model\n"
   ]
  },
  {
   "cell_type": "code",
   "execution_count": 7,
   "metadata": {},
   "outputs": [],
   "source": [
    "### Train your model here. Calculate and report the accuracy on the training and validation set.\n",
    "### Once a final model architecture is selected, the accuracy on the test set should be calculated and reported as well.\n",
    "\n",
    "# x is a placeholder for inputs, y is a placeholder for labels\n",
    "\n",
    "x = tf.placeholder(tf.float32, (None, 32, 32, 3))\n",
    "y = tf.placeholder(tf.int32, (None))\n",
    "one_hot_y = tf.one_hot(y, 43)"
   ]
  },
  {
   "cell_type": "code",
   "execution_count": 8,
   "metadata": {
    "collapsed": true
   },
   "outputs": [],
   "source": [
    "# Create a training pipeline that uses the model to classify the data\n",
    "\n",
    "logits = LeNet(x)\n",
    "cross_entropy = tf.nn.softmax_cross_entropy_with_logits(labels=one_hot_y, logits=logits)\n",
    "loss_operation = tf.reduce_mean(cross_entropy)\n",
    "optimizer = tf.train.AdamOptimizer(learning_rate = 0.001)\n",
    "training_operation = optimizer.minimize(loss_operation)"
   ]
  },
  {
   "cell_type": "code",
   "execution_count": 9,
   "metadata": {
    "collapsed": true
   },
   "outputs": [],
   "source": [
    "# Evaluate how well the loss and accuracy of the model for a given dataset.\n",
    "correct_prediction = tf.equal(tf.argmax(logits, 1), tf.argmax(one_hot_y, 1))\n",
    "accuracy_operation = tf.reduce_mean(tf.cast(correct_prediction, tf.float32))\n",
    "saver = tf.train.Saver()\n",
    "\n",
    "def evaluate(X_data, y_data):\n",
    "    \n",
    "    num_examples = len(X_data)\n",
    "    total_accuracy = 0\n",
    "    sess = tf.get_default_session()\n",
    "    \n",
    "    for offset in range(0, num_examples, BATCH_SIZE):\n",
    "        batch_x, batch_y = X_data[offset:offset+BATCH_SIZE], y_data[offset:offset+BATCH_SIZE]\n",
    "        accuracy = sess.run(accuracy_operation, feed_dict={x: batch_x, y: batch_y})\n",
    "        total_accuracy += (accuracy * len(batch_x))\n",
    "        \n",
    "    return total_accuracy / num_examples"
   ]
  },
  {
   "cell_type": "code",
   "execution_count": 11,
   "metadata": {},
   "outputs": [
    {
     "name": "stdout",
     "output_type": "stream",
     "text": [
      "Training...\n",
      "EPOCH 1 ...\n",
      "Tr.  Acc. = 0.81178 Tr.  Loss = 0.18822\n",
      "Val. Acc. = 0.74467 Val. Loss = 0.25533\n",
      "EPOCH 2 ...\n",
      "Tr.  Acc. = 0.89390 Tr.  Loss = 0.10610\n",
      "Val. Acc. = 0.79637 Val. Loss = 0.20363\n",
      "EPOCH 3 ...\n",
      "Tr.  Acc. = 0.95181 Tr.  Loss = 0.04819\n",
      "Val. Acc. = 0.85442 Val. Loss = 0.14558\n",
      "EPOCH 4 ...\n",
      "Tr.  Acc. = 0.96132 Tr.  Loss = 0.03868\n",
      "Val. Acc. = 0.85215 Val. Loss = 0.14785\n",
      "EPOCH 5 ...\n",
      "Tr.  Acc. = 0.97692 Tr.  Loss = 0.02308\n",
      "Val. Acc. = 0.89705 Val. Loss = 0.10295\n",
      "EPOCH 6 ...\n",
      "Tr.  Acc. = 0.98000 Tr.  Loss = 0.02000\n",
      "Val. Acc. = 0.88005 Val. Loss = 0.11995\n",
      "EPOCH 7 ...\n",
      "Tr.  Acc. = 0.98359 Tr.  Loss = 0.01641\n",
      "Val. Acc. = 0.87687 Val. Loss = 0.12313\n",
      "EPOCH 8 ...\n",
      "Tr.  Acc. = 0.98198 Tr.  Loss = 0.01802\n",
      "Val. Acc. = 0.86463 Val. Loss = 0.13537\n",
      "EPOCH 9 ...\n",
      "Tr.  Acc. = 0.98894 Tr.  Loss = 0.01106\n",
      "Val. Acc. = 0.89501 Val. Loss = 0.10499\n",
      "EPOCH 10 ...\n",
      "Tr.  Acc. = 0.99069 Tr.  Loss = 0.00931\n",
      "Val. Acc. = 0.89025 Val. Loss = 0.10975\n",
      "EPOCH 11 ...\n",
      "Tr.  Acc. = 0.99448 Tr.  Loss = 0.00552\n",
      "Val. Acc. = 0.90816 Val. Loss = 0.09184\n",
      "EPOCH 12 ...\n",
      "Tr.  Acc. = 0.99480 Tr.  Loss = 0.00520\n",
      "Val. Acc. = 0.90159 Val. Loss = 0.09841\n",
      "EPOCH 13 ...\n",
      "Tr.  Acc. = 0.99511 Tr.  Loss = 0.00489\n",
      "Val. Acc. = 0.89433 Val. Loss = 0.10567\n",
      "EPOCH 14 ...\n",
      "Tr.  Acc. = 0.99417 Tr.  Loss = 0.00583\n",
      "Val. Acc. = 0.91497 Val. Loss = 0.08503\n",
      "EPOCH 15 ...\n",
      "Tr.  Acc. = 0.99716 Tr.  Loss = 0.00284\n",
      "Val. Acc. = 0.89274 Val. Loss = 0.10726\n",
      "EPOCH 16 ...\n",
      "Tr.  Acc. = 0.99477 Tr.  Loss = 0.00523\n",
      "Val. Acc. = 0.91247 Val. Loss = 0.08753\n",
      "EPOCH 17 ...\n",
      "Tr.  Acc. = 0.99448 Tr.  Loss = 0.00552\n",
      "Val. Acc. = 0.89048 Val. Loss = 0.10952\n",
      "EPOCH 18 ...\n",
      "Tr.  Acc. = 0.99431 Tr.  Loss = 0.00569\n",
      "Val. Acc. = 0.89773 Val. Loss = 0.10227\n",
      "EPOCH 19 ...\n",
      "Tr.  Acc. = 0.99664 Tr.  Loss = 0.00336\n",
      "Val. Acc. = 0.91066 Val. Loss = 0.08934\n",
      "EPOCH 20 ...\n",
      "Tr.  Acc. = 0.99713 Tr.  Loss = 0.00287\n",
      "Val. Acc. = 0.91406 Val. Loss = 0.08594\n",
      "EPOCH 21 ...\n",
      "Tr.  Acc. = 0.99046 Tr.  Loss = 0.00954\n",
      "Val. Acc. = 0.89819 Val. Loss = 0.10181\n",
      "EPOCH 22 ...\n",
      "Tr.  Acc. = 0.99862 Tr.  Loss = 0.00138\n",
      "Val. Acc. = 0.92993 Val. Loss = 0.07007\n",
      "EPOCH 23 ...\n",
      "Tr.  Acc. = 0.98839 Tr.  Loss = 0.01161\n",
      "Val. Acc. = 0.89955 Val. Loss = 0.10045\n",
      "EPOCH 24 ...\n",
      "Tr.  Acc. = 0.99761 Tr.  Loss = 0.00239\n",
      "Val. Acc. = 0.92494 Val. Loss = 0.07506\n",
      "EPOCH 25 ...\n",
      "Tr.  Acc. = 0.99615 Tr.  Loss = 0.00385\n",
      "Val. Acc. = 0.92494 Val. Loss = 0.07506\n",
      "EPOCH 26 ...\n",
      "Tr.  Acc. = 0.99379 Tr.  Loss = 0.00621\n",
      "Val. Acc. = 0.90612 Val. Loss = 0.09388\n",
      "EPOCH 27 ...\n",
      "Tr.  Acc. = 0.99983 Tr.  Loss = 0.00017\n",
      "Val. Acc. = 0.94014 Val. Loss = 0.05986\n",
      "EPOCH 28 ...\n",
      "Tr.  Acc. = 0.99727 Tr.  Loss = 0.00273\n",
      "Val. Acc. = 0.92585 Val. Loss = 0.07415\n",
      "EPOCH 29 ...\n",
      "Tr.  Acc. = 0.99894 Tr.  Loss = 0.00106\n",
      "Val. Acc. = 0.91905 Val. Loss = 0.08095\n",
      "EPOCH 30 ...\n",
      "Tr.  Acc. = 0.99937 Tr.  Loss = 0.00063\n",
      "Val. Acc. = 0.92608 Val. Loss = 0.07392\n",
      "EPOCH 31 ...\n",
      "Tr.  Acc. = 0.99305 Tr.  Loss = 0.00695\n",
      "Val. Acc. = 0.90522 Val. Loss = 0.09478\n",
      "EPOCH 32 ...\n",
      "Tr.  Acc. = 0.99738 Tr.  Loss = 0.00262\n",
      "Val. Acc. = 0.92313 Val. Loss = 0.07687\n",
      "EPOCH 33 ...\n",
      "Tr.  Acc. = 0.99698 Tr.  Loss = 0.00302\n",
      "Val. Acc. = 0.93243 Val. Loss = 0.06757\n",
      "EPOCH 34 ...\n",
      "Tr.  Acc. = 0.99845 Tr.  Loss = 0.00155\n",
      "Val. Acc. = 0.91519 Val. Loss = 0.08481\n",
      "EPOCH 35 ...\n",
      "Tr.  Acc. = 0.99908 Tr.  Loss = 0.00092\n",
      "Val. Acc. = 0.93878 Val. Loss = 0.06122\n"
     ]
    },
    {
     "data": {
      "image/png": "[encoded data removed]",
      "text/plain": [
       "<matplotlib.figure.Figure at 0xc51777b208>"
      ]
     },
     "metadata": {},
     "output_type": "display_data"
    },
    {
     "name": "stdout",
     "output_type": "stream",
     "text": [
      "Model saved\n"
     ]
    }
   ],
   "source": [
    "# train the model\n",
    "\n",
    "EPOCHS = 35\n",
    "BATCH_SIZE = 256\n",
    "\n",
    "with tf.Session() as sess:\n",
    "    \n",
    "    sess.run(tf.global_variables_initializer())\n",
    "    num_examples = len(X_train)\n",
    "    \n",
    "    train_accuracy_list = []\n",
    "    valid_accuracy_list = []\n",
    "    train_loss_list = []\n",
    "    valid_loss_list = []\n",
    "    \n",
    "    print(\"Training...\")\n",
    "    \n",
    "    for i in range(EPOCHS):\n",
    "        \n",
    "        X_train, y_train = shuffle(X_train, y_train)\n",
    "        \n",
    "        for offset in range(0, num_examples, BATCH_SIZE):\n",
    "            end = offset + BATCH_SIZE\n",
    "            batch_x, batch_y = X_train[offset:end], y_train[offset:end]\n",
    "            sess.run(training_operation, feed_dict={x: batch_x, y: batch_y})\n",
    "            sess.run(training_operation, feed_dict={x: batch_x, y: batch_y})\n",
    "\n",
    "        train_accuracy = evaluate(X_train, y_train)\n",
    "        train_loss = 1.0 - train_accuracy\n",
    "        train_loss_list.append(train_loss)\n",
    "        train_accuracy_list.append(train_accuracy)\n",
    "           \n",
    "        valid_accuracy = evaluate(X_valid, y_valid)\n",
    "        valid_loss = 1.0 - valid_accuracy\n",
    "        valid_loss_list.append(valid_loss)\n",
    "        valid_accuracy_list.append(train_accuracy)\n",
    "\n",
    "        print(\"EPOCH {} ...\".format(i+1))\n",
    "        print(\"Tr.  Acc. = {:.5f}\".format(train_accuracy), \"Tr.  Loss = {:.5f}\".format(train_loss))\n",
    "        print(\"Val. Acc. = {:.5f}\".format(valid_accuracy), \"Val. Loss = {:.5f}\".format(valid_loss))\n",
    " \n",
    "    plot_accuracy = plt.subplot(2,1,2)\n",
    "    plot_accuracy.set_title('Accuracy')\n",
    "    plot_accuracy.plot(train_accuracy_list,'r', label='Training Accuracy')\n",
    "    plot_accuracy.plot(valid_accuracy_list, 'b', label='Validation Accuracy')\n",
    "    plot_accuracy.set_ylim([0, 1.0])\n",
    "    plot_accuracy.set_xlim([0, EPOCHS])\n",
    "    plot_accuracy.legend(loc=4)\n",
    "    \n",
    "    plot_loss = plt.subplot(2,1,1)\n",
    "    plot_loss.set_title('Loss')\n",
    "    plot_loss.plot(train_loss_list, 'r', label='Training Loss')\n",
    "    plot_loss.plot(valid_loss_list, 'b', label='Validation Loss')\n",
    "    plot_loss.set_ylim([0, 1.0])\n",
    "    plot_loss.set_xlim([0, EPOCHS])\n",
    "    plot_loss.legend(loc=4)\n",
    "    plot_loss = plt.subplot(2,1,1)\n",
    "    \n",
    "    plt.tight_layout()\n",
    "    plt.show()\n",
    "        \n",
    "    saver.save(sess, './TSC')\n",
    "    print(\"Model saved\")"
   ]
  },
  {
   "cell_type": "code",
   "execution_count": 12,
   "metadata": {},
   "outputs": [
    {
     "name": "stdout",
     "output_type": "stream",
     "text": [
      "Test Accuracy =  0.92629\n"
     ]
    }
   ],
   "source": [
    "# testing the model\n",
    "with tf.Session() as sess:\n",
    "    saver.restore(sess, tf.train.latest_checkpoint('.'))\n",
    "\n",
    "    test_accuracy = evaluate(X_test, y_test)\n",
    "    print(\"Test Accuracy =  {0:.5f}\".format(test_accuracy))"
   ]
  },
  {
   "cell_type": "markdown",
   "metadata": {},
   "source": [
    "---\n",
    "\n",
    "## Step 3: Test a Model on New Images\n",
    "\n",
    "To give yourself more insight into how your model is working, download at least five pictures of German traffic signs from the web and use your model to predict the traffic sign type.\n",
    "\n",
    "You may find `signnames.csv` useful as it contains mappings from the class id (integer) to the actual sign name."
   ]
  },
  {
   "cell_type": "code",
   "execution_count": 14,
   "metadata": {},
   "outputs": [
    {
     "data": {
      "image/png": "[encoded data removed]",
      "text/plain": [
       "<matplotlib.figure.Figure at 0xc51761d278>"
      ]
     },
     "metadata": {},
     "output_type": "display_data"
    },
    {
     "data": {
      "image/png": "[encoded data removed]",
      "text/plain": [
       "<matplotlib.figure.Figure at 0xc53c79dc18>"
      ]
     },
     "metadata": {},
     "output_type": "display_data"
    },
    {
     "data": {
      "image/png": "[encoded data removed]",
      "text/plain": [
       "<matplotlib.figure.Figure at 0xc5177cd518>"
      ]
     },
     "metadata": {},
     "output_type": "display_data"
    },
    {
     "data": {
      "image/png": "[encoded data removed]",
      "text/plain": [
       "<matplotlib.figure.Figure at 0xc517d81390>"
      ]
     },
     "metadata": {},
     "output_type": "display_data"
    },
    {
     "data": {
      "image/png": "[encoded data removed]",
      "text/plain": [
       "<matplotlib.figure.Figure at 0xc517c27630>"
      ]
     },
     "metadata": {},
     "output_type": "display_data"
    },
    {
     "data": {
      "image/png": "[encoded data removed]",
      "text/plain": [
       "<matplotlib.figure.Figure at 0xc517db77f0>"
      ]
     },
     "metadata": {},
     "output_type": "display_data"
    },
    {
     "data": {
      "image/png": "[encoded data removed]",
      "text/plain": [
       "<matplotlib.figure.Figure at 0xc517cc2048>"
      ]
     },
     "metadata": {},
     "output_type": "display_data"
    },
    {
     "data": {
      "image/png": "[encoded data removed]",
      "text/plain": [
       "<matplotlib.figure.Figure at 0xc517d353c8>"
      ]
     },
     "metadata": {},
     "output_type": "display_data"
    },
    {
     "data": {
      "image/png": "[encoded data removed]",
      "text/plain": [
       "<matplotlib.figure.Figure at 0xc517820908>"
      ]
     },
     "metadata": {},
     "output_type": "display_data"
    },
    {
     "data": {
      "image/png": "[encoded data removed]",
      "text/plain": [
       "<matplotlib.figure.Figure at 0xc517eb99e8>"
      ]
     },
     "metadata": {},
     "output_type": "display_data"
    },
    {
     "data": {
      "image/png": "[encoded data removed]",
      "text/plain": [
       "<matplotlib.figure.Figure at 0xc517db7240>"
      ]
     },
     "metadata": {},
     "output_type": "display_data"
    },
    {
     "data": {
      "image/png": "[encoded data removed]",
      "text/plain": [
       "<matplotlib.figure.Figure at 0xc517f52cf8>"
      ]
     },
     "metadata": {},
     "output_type": "display_data"
    },
    {
     "data": {
      "image/png": "[encoded data removed]",
      "text/plain": [
       "<matplotlib.figure.Figure at 0xc517cc22e8>"
      ]
     },
     "metadata": {},
     "output_type": "display_data"
    },
    {
     "data": {
      "image/png": "[encoded data removed]",
      "text/plain": [
       "<matplotlib.figure.Figure at 0xc518fcb780>"
      ]
     },
     "metadata": {},
     "output_type": "display_data"
    },
    {
     "data": {
      "image/png": "[encoded data removed]",
      "text/plain": [
       "<matplotlib.figure.Figure at 0xc5190219b0>"
      ]
     },
     "metadata": {},
     "output_type": "display_data"
    },
    {
     "data": {
      "image/png": "[encoded data removed]",
      "text/plain": [
       "<matplotlib.figure.Figure at 0xc5190759b0>"
      ]
     },
     "metadata": {},
     "output_type": "display_data"
    },
    {
     "data": {
      "image/png": "[encoded data removed]",
      "text/plain": [
       "<matplotlib.figure.Figure at 0xc51909eb38>"
      ]
     },
     "metadata": {},
     "output_type": "display_data"
    },
    {
     "data": {
      "image/png": "[encoded data removed]",
      "text/plain": [
       "<matplotlib.figure.Figure at 0xc51912c320>"
      ]
     },
     "metadata": {},
     "output_type": "display_data"
    },
    {
     "data": {
      "image/png": "[encoded data removed]",
      "text/plain": [
       "<matplotlib.figure.Figure at 0xc5190fb240>"
      ]
     },
     "metadata": {},
     "output_type": "display_data"
    },
    {
     "data": {
      "image/png": "[encoded data removed]",
      "text/plain": [
       "<matplotlib.figure.Figure at 0xc518fd8f28>"
      ]
     },
     "metadata": {},
     "output_type": "display_data"
    },
    {
     "name": "stdout",
     "output_type": "stream",
     "text": [
      "input size:  (32, 32, 3) type :  float32 min:  0.0705882 max:  1.0\n"
     ]
    }
   ],
   "source": [
    "### Load the images and plot them here.\n",
    "from os import listdir\n",
    "from cv2 import resize\n",
    "import matplotlib.image as mpimg\n",
    "\n",
    "def loadImages():\n",
    "    \"\"\" return array of images\"\"\"\n",
    "    \n",
    "    floder = 'new_signs\\\\'\n",
    "    imagesList = listdir(floder)\n",
    "    loadedImages = []\n",
    "    \n",
    "    for image in imagesList:\n",
    "        \n",
    "        img = mpimg.imread(floder + image)\n",
    "        img = np.array(img)\n",
    "        \n",
    "        img = resize(img, (32, 32))\n",
    "        img = img[:, :, :3]\n",
    "        \n",
    "        plt.figure(figsize = (1, 1))\n",
    "        plt.imshow(img)\n",
    "        plt.show()\n",
    "        loadedImages.append(img)\n",
    "\n",
    "    return loadedImages\n",
    "\n",
    "# images in an array\n",
    "X_my_test = loadImages()\n",
    "\n",
    "# visualizing the new images\n",
    "print(\"input size: \", X_my_test[0].shape, \"type : \", X_my_test[0].dtype, \"min: \", np.min(X_my_test[0]),\\\n",
    "      \"max: \",np.max(X_my_test[0]))\n",
    "\n",
    "# correct labels\n",
    "Y_my_test = [14, 19, 20, 22, 23, 24, 25, 26, 27, 28, 29, 30, 31, 33, 34, 35, 36, 37, 38, 39]"
   ]
  },
  {
   "cell_type": "markdown",
   "metadata": {},
   "source": [
    "#### Predict the Sign Type for Each Image"
   ]
  },
  {
   "cell_type": "code",
   "execution_count": 15,
   "metadata": {},
   "outputs": [
    {
     "name": "stdout",
     "output_type": "stream",
     "text": [
      "Test Accuracy  0.80000\n"
     ]
    }
   ],
   "source": [
    "### Run the predictions here and use the model to output the prediction for each image.\n",
    "### Make sure to pre-process the images with the same pre-processing pipeline used earlier.\n",
    "with tf.Session() as sess:\n",
    "    saver.restore(sess, './TSC')\n",
    "\n",
    "    test_accuracy = evaluate(X_my_test, Y_my_test)\n",
    "    \n",
    "### Calculate the accuracy for these 5 new images. \n",
    "### For example, if the model predicted 1 out of 5 signs correctly, it's 20% accurate on these new images.\n",
    "print(\"Test Accuracy  {0:.5f}\".format(test_accuracy))"
   ]
  },
  {
   "cell_type": "markdown",
   "metadata": {},
   "source": [
    "#### Output Top 5 Softmax Probabilities For Each Image Found on the Web"
   ]
  },
  {
   "cell_type": "code",
   "execution_count": 16,
   "metadata": {},
   "outputs": [
    {
     "name": "stdout",
     "output_type": "stream",
     "text": [
      "The actual values of the five input images are\n",
      " [14, 19, 20, 22, 23, 24, 25, 26, 27, 28, 29, 30, 31, 33, 34, 35, 36, 37, 38, 39]\n",
      "the top 5 detected labels are\n",
      " [[29 14  1 25  2]\n",
      " [19 23 31 28 25]\n",
      " [20 23  9 41 28]\n",
      " [22 29 25 24 18]\n",
      " [23 19 20 11  0]\n",
      " [24 18 21 29 26]\n",
      " [25 22 20  0  1]\n",
      " [18 26 11 21 24]\n",
      " [18 27 24 26 21]\n",
      " [28 19  0 11 20]\n",
      " [29 23 31 28 24]\n",
      " [28 30 11 23 26]\n",
      " [31 21 11 18 25]\n",
      " [33 13 11  7 26]\n",
      " [34 38 15 13  9]\n",
      " [35 20 40 19  9]\n",
      " [36 40 18 11  9]\n",
      " [37 40  4 39  0]\n",
      " [38 36 13  0  1]\n",
      " [39  2  7 31 40]]\n",
      "Softmax probabilities for the 20 images are \n",
      " [[1.00000 0.00000 0.00000 0.00000 0.00000]\n",
      " [0.99997 0.00003 0.00000 0.00000 0.00000]\n",
      " [1.00000 0.00000 0.00000 0.00000 0.00000]\n",
      " [1.00000 0.00000 0.00000 0.00000 0.00000]\n",
      " [1.00000 0.00000 0.00000 0.00000 0.00000]\n",
      " [1.00000 0.00000 0.00000 0.00000 0.00000]\n",
      " [1.00000 0.00000 0.00000 0.00000 0.00000]\n",
      " [0.99947 0.00053 0.00000 0.00000 0.00000]\n",
      " [0.99608 0.00392 0.00000 0.00000 0.00000]\n",
      " [1.00000 0.00000 0.00000 0.00000 0.00000]\n",
      " [1.00000 0.00000 0.00000 0.00000 0.00000]\n",
      " [1.00000 0.00000 0.00000 0.00000 0.00000]\n",
      " [1.00000 0.00000 0.00000 0.00000 0.00000]\n",
      " [1.00000 0.00000 0.00000 0.00000 0.00000]\n",
      " [0.99762 0.00238 0.00000 0.00000 0.00000]\n",
      " [1.00000 0.00000 0.00000 0.00000 0.00000]\n",
      " [1.00000 0.00000 0.00000 0.00000 0.00000]\n",
      " [1.00000 0.00000 0.00000 0.00000 0.00000]\n",
      " [1.00000 0.00000 0.00000 0.00000 0.00000]\n",
      " [1.00000 0.00000 0.00000 0.00000 0.00000]]\n"
     ]
    }
   ],
   "source": [
    "### Print out the top five softmax probabilities for the predictions on the German traffic sign images found on the web.\n",
    "\n",
    "with tf.Session() as sess:\n",
    "    saver.restore(sess, tf.train.latest_checkpoint('.'))\n",
    "    \n",
    "    out = sess.run(tf.nn.softmax(logits), feed_dict={x: X_my_test}) #, keep_prob: 1.0})\n",
    "    prediction = sess.run(tf.nn.top_k(out, k = 5))\n",
    "\n",
    "print(\"The actual values of the five input images are\\n\", Y_my_test)\n",
    "print(\"the top 5 detected labels are\\n\", prediction.indices[:20,:])\n",
    "\n",
    "np.set_printoptions(formatter={'float': lambda x: \"{0:.5f}\".format(x)})\n",
    "print(\"Softmax probabilities for the 20 images are \\n\", prediction.values[:20,:])"
   ]
  },
  {
   "cell_type": "code",
   "execution_count": null,
   "metadata": {
    "collapsed": true
   },
   "outputs": [],
   "source": []
  }
 ],
 "metadata": {
  "kernelspec": {
   "display_name": "Python 3",
   "language": "python",
   "name": "python3"
  },
  "language_info": {
   "codemirror_mode": {
    "name": "ipython",
    "version": 3
   },
   "file_extension": ".py",
   "mimetype": "text/x-python",
   "name": "python",
   "nbconvert_exporter": "python",
   "pygments_lexer": "ipython3",
   "version": "3.6.10"
  }
 },
 "nbformat": 4,
 "nbformat_minor": 2
}
